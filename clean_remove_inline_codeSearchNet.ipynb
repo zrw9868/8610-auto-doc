{
 "cells": [
  {
   "cell_type": "code",
   "execution_count": 1,
   "metadata": {},
   "outputs": [],
   "source": [
    "import json\n",
    "import gzip\n",
    "\n",
    "import pandas as pd\n",
    "from pathlib import Path\n",
    "pd.set_option('max_colwidth',300)\n",
    "from pprint import pprint"
   ]
  },
  {
   "cell_type": "code",
   "execution_count": 2,
   "metadata": {},
   "outputs": [],
   "source": [
    "train_files = sorted(Path('../resources/data/python/final/jsonl/train').glob('**/*.gz'))\n",
    "val_files = sorted(Path('../resources/data/python/final/jsonl/valid').glob('**/*.gz'))\n",
    "test_files = sorted(Path('../resources/data/python/final/jsonl/test').glob('**/*.gz'))"
   ]
  },
  {
   "cell_type": "code",
   "execution_count": 3,
   "metadata": {},
   "outputs": [
    {
     "name": "stdout",
     "output_type": "stream",
     "text": [
      "14 1 1\n"
     ]
    }
   ],
   "source": [
    "print(len(train_files), len(val_files), len(test_files))"
   ]
  },
  {
   "cell_type": "code",
   "execution_count": 7,
   "metadata": {},
   "outputs": [],
   "source": [
    "def remove(li):\n",
    "    return [ele for ele in li if len(ele) > 0 and ele[0]!=\"#\"]\n",
    "\n",
    "def remove_inline_comments(files):\n",
    "    all_data = []\n",
    "    for f in files:\n",
    "        with gzip.open(f, 'r') as ff:\n",
    "            each = []\n",
    "            data = ff.readlines()\n",
    "            for i in data:\n",
    "                new = {}\n",
    "                loaded = json.loads(i)\n",
    "                code_tokens = remove(loaded[\"code_tokens\"])\n",
    "                new[\"code\"] = \" \".join(code_tokens)\n",
    "                docstring_tokens = loaded[\"docstring_tokens\"]\n",
    "                new[\"docstring\"] = \" \".join(docstring_tokens)\n",
    "                each.append(new)\n",
    "            all_data.extend(each)\n",
    "    print (len(all_data))\n",
    "    df = pd.DataFrame.from_records(all_data)\n",
    "    return df"
   ]
  },
  {
   "cell_type": "code",
   "execution_count": 8,
   "metadata": {},
   "outputs": [
    {
     "name": "stdout",
     "output_type": "stream",
     "text": [
      "412178\n",
      "23107\n",
      "22176\n"
     ]
    }
   ],
   "source": [
    "train = remove_inline_comments(train_files)\n",
    "val = remove_inline_comments(val_files)\n",
    "test = remove_inline_comments(test_files)"
   ]
  },
  {
   "cell_type": "code",
   "execution_count": 9,
   "metadata": {},
   "outputs": [
    {
     "data": {
      "text/html": [
       "<div>\n",
       "<style scoped>\n",
       "    .dataframe tbody tr th:only-of-type {\n",
       "        vertical-align: middle;\n",
       "    }\n",
       "\n",
       "    .dataframe tbody tr th {\n",
       "        vertical-align: top;\n",
       "    }\n",
       "\n",
       "    .dataframe thead th {\n",
       "        text-align: right;\n",
       "    }\n",
       "</style>\n",
       "<table border=\"1\" class=\"dataframe\">\n",
       "  <thead>\n",
       "    <tr style=\"text-align: right;\">\n",
       "      <th></th>\n",
       "      <th>code</th>\n",
       "      <th>docstring</th>\n",
       "    </tr>\n",
       "  </thead>\n",
       "  <tbody>\n",
       "    <tr>\n",
       "      <td>0</td>\n",
       "      <td>def train ( train_dir , model_save_path = None , n_neighbors = None , knn_algo = 'ball_tree' , verbose = False ) : X = [ ] y = [ ] for class_dir in os . listdir ( train_dir ) : if not os . path . isdir ( os . path . join ( train_dir , class_dir ) ) : continue for img_path in image_files_in_folde...</td>\n",
       "      <td>Trains a k - nearest neighbors classifier for face recognition .</td>\n",
       "    </tr>\n",
       "  </tbody>\n",
       "</table>\n",
       "</div>"
      ],
      "text/plain": [
       "                                                                                                                                                                                                                                                                                                          code  \\\n",
       "0  def train ( train_dir , model_save_path = None , n_neighbors = None , knn_algo = 'ball_tree' , verbose = False ) : X = [ ] y = [ ] for class_dir in os . listdir ( train_dir ) : if not os . path . isdir ( os . path . join ( train_dir , class_dir ) ) : continue for img_path in image_files_in_folde...   \n",
       "\n",
       "                                                          docstring  \n",
       "0  Trains a k - nearest neighbors classifier for face recognition .  "
      ]
     },
     "execution_count": 9,
     "metadata": {},
     "output_type": "execute_result"
    }
   ],
   "source": [
    "train.head(1)"
   ]
  },
  {
   "cell_type": "code",
   "execution_count": 10,
   "metadata": {},
   "outputs": [
    {
     "data": {
      "text/plain": [
       "'def train ( train_dir , model_save_path = None , n_neighbors = None , knn_algo = \\'ball_tree\\' , verbose = False ) : X = [ ] y = [ ] for class_dir in os . listdir ( train_dir ) : if not os . path . isdir ( os . path . join ( train_dir , class_dir ) ) : continue for img_path in image_files_in_folder ( os . path . join ( train_dir , class_dir ) ) : image = face_recognition . load_image_file ( img_path ) face_bounding_boxes = face_recognition . face_locations ( image ) if len ( face_bounding_boxes ) != 1 : if verbose : print ( \"Image {} not suitable for training: {}\" . format ( img_path , \"Didn\\'t find a face\" if len ( face_bounding_boxes ) < 1 else \"Found more than one face\" ) ) else : X . append ( face_recognition . face_encodings ( image , known_face_locations = face_bounding_boxes ) [ 0 ] ) y . append ( class_dir ) if n_neighbors is None : n_neighbors = int ( round ( math . sqrt ( len ( X ) ) ) ) if verbose : print ( \"Chose n_neighbors automatically:\" , n_neighbors ) knn_clf = neighbors . KNeighborsClassifier ( n_neighbors = n_neighbors , algorithm = knn_algo , weights = \\'distance\\' ) knn_clf . fit ( X , y ) if model_save_path is not None : with open ( model_save_path , \\'wb\\' ) as f : pickle . dump ( knn_clf , f ) return knn_clf'"
      ]
     },
     "execution_count": 10,
     "metadata": {},
     "output_type": "execute_result"
    }
   ],
   "source": [
    "train[\"code\"][0]"
   ]
  },
  {
   "cell_type": "code",
   "execution_count": 11,
   "metadata": {},
   "outputs": [
    {
     "data": {
      "text/plain": [
       "'Trains a k - nearest neighbors classifier for face recognition .'"
      ]
     },
     "execution_count": 11,
     "metadata": {},
     "output_type": "execute_result"
    }
   ],
   "source": [
    "train[\"docstring\"][0]"
   ]
  },
  {
   "cell_type": "code",
   "execution_count": 12,
   "metadata": {},
   "outputs": [],
   "source": [
    "train.to_csv(\"train_wo_inline.csv\")\n",
    "val.to_csv(\"val_wo_inline.csv\")\n",
    "test.to_csv(\"test_wo_inline.csv\")"
   ]
  },
  {
   "cell_type": "code",
   "execution_count": null,
   "metadata": {},
   "outputs": [],
   "source": []
  },
  {
   "cell_type": "code",
   "execution_count": null,
   "metadata": {},
   "outputs": [],
   "source": []
  }
 ],
 "metadata": {
  "kernelspec": {
   "display_name": "Python 3",
   "language": "python",
   "name": "python3"
  },
  "language_info": {
   "codemirror_mode": {
    "name": "ipython",
    "version": 3
   },
   "file_extension": ".py",
   "mimetype": "text/x-python",
   "name": "python",
   "nbconvert_exporter": "python",
   "pygments_lexer": "ipython3",
   "version": "3.7.0"
  }
 },
 "nbformat": 4,
 "nbformat_minor": 2
}
